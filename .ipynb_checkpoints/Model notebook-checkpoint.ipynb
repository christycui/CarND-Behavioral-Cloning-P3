{
 "cells": [
  {
   "cell_type": "code",
   "execution_count": null,
   "metadata": {
    "collapsed": false
   },
   "outputs": [],
   "source": [
    "import pandas as pd\n",
    "import numpy as np\n",
    "from PIL import Image\n",
    "import pickle\n",
    "import csv\n",
    "import os\n",
    "import cv2\n",
    "import sklearn\n",
    "import random\n",
    "import matplotlib.pyplot as plt\n",
    "%matplotlib inline\n",
    "\n",
    "path = '/Users/Christy/Desktop/'\n",
    "samples = []\n",
    "images = []\n",
    "angles = []\n",
    "with open('driving_log.csv','r') as log_1, open(path+'driving_log.csv','r') as log_2:\n",
    "  reader_1 = csv.reader(log_1)\n",
    "  reader_2 = csv.reader(log_2)\n",
    "  next(reader_1, None)\n",
    "  for line in reader_1:\n",
    "    samples.append(line)\n",
    "    if 'center_2017_02_22_01_28_55_524' in line[0]:\n",
    "        rand = random.randint(1,100)\n",
    "        print(rand)\n",
    "        center_image =cv2.imread(line[0])\n",
    "        plt.figure()\n",
    "        plt.imshow(center_image)\n",
    "        center_image = cv2.cvtColor(center_image,cv2.COLOR_BGR2HLS)\n",
    "        center_image[:,:,1] += rand\n",
    "        center_image = cv2.cvtColor(center_image,cv2.COLOR_HLS2RGB)\n",
    "        left_image = cv2.cvtColor(cv2.imread(line[1].strip()),cv2.COLOR_BGR2HSV)\n",
    "        left_image[:,:,2] += rand\n",
    "        left_image = cv2.cvtColor(left_image,cv2.COLOR_HSV2RGB)\n",
    "        right_image = cv2.cvtColor(cv2.imread(line[2].strip()),cv2.COLOR_BGR2HSV)\n",
    "        right_image[:,:,2] += rand\n",
    "        right_image = cv2.cvtColor(right_image,cv2.COLOR_HSV2RGB)\n",
    "        plt.figure()\n",
    "        plt.imshow(center_image)\n",
    "\n",
    "        center_angle = float(line[3])\n",
    "        correction = 0.2\n",
    "        steering_left = center_angle + correction\n",
    "        steering_right = center_angle - correction\n",
    "        images.extend([center_image, left_image, right_image])\n",
    "        angles.append([center_angle, steering_left, steering_right])"
   ]
  },
  {
   "cell_type": "code",
   "execution_count": null,
   "metadata": {
    "collapsed": true
   },
   "outputs": [],
   "source": []
  }
 ],
 "metadata": {
  "kernelspec": {
   "display_name": "Python 3",
   "language": "python",
   "name": "python3"
  },
  "language_info": {
   "codemirror_mode": {
    "name": "ipython",
    "version": 3
   },
   "file_extension": ".py",
   "mimetype": "text/x-python",
   "name": "python",
   "nbconvert_exporter": "python",
   "pygments_lexer": "ipython3",
   "version": "3.4.5"
  }
 },
 "nbformat": 4,
 "nbformat_minor": 1
}
